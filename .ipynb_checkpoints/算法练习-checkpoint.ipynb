{
 "cells": [
  {
   "cell_type": "markdown",
   "metadata": {},
   "source": [
    "# 排序算法"
   ]
  },
  {
   "cell_type": "markdown",
   "metadata": {
    "heading_collapsed": true
   },
   "source": [
    "#### 预备函数"
   ]
  },
  {
   "cell_type": "code",
   "execution_count": 1,
   "metadata": {
    "hidden": true
   },
   "outputs": [],
   "source": [
    "'''\n",
    "1. 交换数组中2个元素， i, j为元素的下标\n",
    "2. python 中可以使用 a,b = b,a 交换2个元素\n",
    "'''\n",
    "\n",
    "def swap(data, i, j):\n",
    "    if i > len(data):\n",
    "        return False\n",
    "    if j >len(data):\n",
    "        return False\n",
    "    t = data[i]\n",
    "    data[i] = data[j]\n",
    "    data[j] = t\n",
    "\n",
    "### 生成长度为n的从a,到b的随机序列\n",
    "def random_list(n, a, b):\n",
    "    from random import randint\n",
    "    data = []\n",
    "    for i in range(n):\n",
    "        data.append(randint(a, b))\n",
    "    return data\n",
    "#\n"
   ]
  },
  {
   "cell_type": "code",
   "execution_count": 2,
   "metadata": {
    "hidden": true
   },
   "outputs": [
    {
     "ename": "NameError",
     "evalue": "name 'bubbleSort' is not defined",
     "output_type": "error",
     "traceback": [
      "\u001b[1;31m---------------------------------------------------------------------------\u001b[0m",
      "\u001b[1;31mNameError\u001b[0m                                 Traceback (most recent call last)",
      "\u001b[1;32m<ipython-input-2-90f26e17cf15>\u001b[0m in \u001b[0;36m<module>\u001b[1;34m()\u001b[0m\n\u001b[0;32m      2\u001b[0m \u001b[0mb\u001b[0m \u001b[1;33m=\u001b[0m \u001b[0ma\u001b[0m\u001b[1;33m\u001b[0m\u001b[0m\n\u001b[0;32m      3\u001b[0m \u001b[1;31m#print(a)\u001b[0m\u001b[1;33m\u001b[0m\u001b[1;33m\u001b[0m\u001b[0m\n\u001b[1;32m----> 4\u001b[1;33m \u001b[0mget_ipython\u001b[0m\u001b[1;33m(\u001b[0m\u001b[1;33m)\u001b[0m\u001b[1;33m.\u001b[0m\u001b[0mrun_line_magic\u001b[0m\u001b[1;33m(\u001b[0m\u001b[1;34m'timeit'\u001b[0m\u001b[1;33m,\u001b[0m \u001b[1;34m'bubbleSort(a)       #2.46ms'\u001b[0m\u001b[1;33m)\u001b[0m\u001b[1;33m\u001b[0m\u001b[0m\n\u001b[0m\u001b[0;32m      5\u001b[0m \u001b[1;31m#%timeit selectSort(a)        #4.34s\u001b[0m\u001b[1;33m\u001b[0m\u001b[1;33m\u001b[0m\u001b[0m\n\u001b[0;32m      6\u001b[0m \u001b[1;31m#%timeit insertSort(a)       #6.07  6.2s\u001b[0m\u001b[1;33m\u001b[0m\u001b[1;33m\u001b[0m\u001b[0m\n",
      "\u001b[1;32mD:\\Program Files\\Anaconda3\\lib\\site-packages\\IPython\\core\\interactiveshell.py\u001b[0m in \u001b[0;36mrun_line_magic\u001b[1;34m(self, magic_name, line, _stack_depth)\u001b[0m\n\u001b[0;32m   2129\u001b[0m                 \u001b[0mkwargs\u001b[0m\u001b[1;33m[\u001b[0m\u001b[1;34m'local_ns'\u001b[0m\u001b[1;33m]\u001b[0m \u001b[1;33m=\u001b[0m \u001b[0msys\u001b[0m\u001b[1;33m.\u001b[0m\u001b[0m_getframe\u001b[0m\u001b[1;33m(\u001b[0m\u001b[0mstack_depth\u001b[0m\u001b[1;33m)\u001b[0m\u001b[1;33m.\u001b[0m\u001b[0mf_locals\u001b[0m\u001b[1;33m\u001b[0m\u001b[0m\n\u001b[0;32m   2130\u001b[0m             \u001b[1;32mwith\u001b[0m \u001b[0mself\u001b[0m\u001b[1;33m.\u001b[0m\u001b[0mbuiltin_trap\u001b[0m\u001b[1;33m:\u001b[0m\u001b[1;33m\u001b[0m\u001b[0m\n\u001b[1;32m-> 2131\u001b[1;33m                 \u001b[0mresult\u001b[0m \u001b[1;33m=\u001b[0m \u001b[0mfn\u001b[0m\u001b[1;33m(\u001b[0m\u001b[1;33m*\u001b[0m\u001b[0margs\u001b[0m\u001b[1;33m,\u001b[0m\u001b[1;33m**\u001b[0m\u001b[0mkwargs\u001b[0m\u001b[1;33m)\u001b[0m\u001b[1;33m\u001b[0m\u001b[0m\n\u001b[0m\u001b[0;32m   2132\u001b[0m             \u001b[1;32mreturn\u001b[0m \u001b[0mresult\u001b[0m\u001b[1;33m\u001b[0m\u001b[0m\n\u001b[0;32m   2133\u001b[0m \u001b[1;33m\u001b[0m\u001b[0m\n",
      "\u001b[1;32m<decorator-gen-62>\u001b[0m in \u001b[0;36mtimeit\u001b[1;34m(self, line, cell, local_ns)\u001b[0m\n",
      "\u001b[1;32mD:\\Program Files\\Anaconda3\\lib\\site-packages\\IPython\\core\\magic.py\u001b[0m in \u001b[0;36m<lambda>\u001b[1;34m(f, *a, **k)\u001b[0m\n\u001b[0;32m    185\u001b[0m     \u001b[1;31m# but it's overkill for just that one bit of state.\u001b[0m\u001b[1;33m\u001b[0m\u001b[1;33m\u001b[0m\u001b[0m\n\u001b[0;32m    186\u001b[0m     \u001b[1;32mdef\u001b[0m \u001b[0mmagic_deco\u001b[0m\u001b[1;33m(\u001b[0m\u001b[0marg\u001b[0m\u001b[1;33m)\u001b[0m\u001b[1;33m:\u001b[0m\u001b[1;33m\u001b[0m\u001b[0m\n\u001b[1;32m--> 187\u001b[1;33m         \u001b[0mcall\u001b[0m \u001b[1;33m=\u001b[0m \u001b[1;32mlambda\u001b[0m \u001b[0mf\u001b[0m\u001b[1;33m,\u001b[0m \u001b[1;33m*\u001b[0m\u001b[0ma\u001b[0m\u001b[1;33m,\u001b[0m \u001b[1;33m**\u001b[0m\u001b[0mk\u001b[0m\u001b[1;33m:\u001b[0m \u001b[0mf\u001b[0m\u001b[1;33m(\u001b[0m\u001b[1;33m*\u001b[0m\u001b[0ma\u001b[0m\u001b[1;33m,\u001b[0m \u001b[1;33m**\u001b[0m\u001b[0mk\u001b[0m\u001b[1;33m)\u001b[0m\u001b[1;33m\u001b[0m\u001b[0m\n\u001b[0m\u001b[0;32m    188\u001b[0m \u001b[1;33m\u001b[0m\u001b[0m\n\u001b[0;32m    189\u001b[0m         \u001b[1;32mif\u001b[0m \u001b[0mcallable\u001b[0m\u001b[1;33m(\u001b[0m\u001b[0marg\u001b[0m\u001b[1;33m)\u001b[0m\u001b[1;33m:\u001b[0m\u001b[1;33m\u001b[0m\u001b[0m\n",
      "\u001b[1;32mD:\\Program Files\\Anaconda3\\lib\\site-packages\\IPython\\core\\magics\\execution.py\u001b[0m in \u001b[0;36mtimeit\u001b[1;34m(self, line, cell, local_ns)\u001b[0m\n\u001b[0;32m   1096\u001b[0m             \u001b[1;32mfor\u001b[0m \u001b[0mindex\u001b[0m \u001b[1;32min\u001b[0m \u001b[0mrange\u001b[0m\u001b[1;33m(\u001b[0m\u001b[1;36m0\u001b[0m\u001b[1;33m,\u001b[0m \u001b[1;36m10\u001b[0m\u001b[1;33m)\u001b[0m\u001b[1;33m:\u001b[0m\u001b[1;33m\u001b[0m\u001b[0m\n\u001b[0;32m   1097\u001b[0m                 \u001b[0mnumber\u001b[0m \u001b[1;33m=\u001b[0m \u001b[1;36m10\u001b[0m \u001b[1;33m**\u001b[0m \u001b[0mindex\u001b[0m\u001b[1;33m\u001b[0m\u001b[0m\n\u001b[1;32m-> 1098\u001b[1;33m                 \u001b[0mtime_number\u001b[0m \u001b[1;33m=\u001b[0m \u001b[0mtimer\u001b[0m\u001b[1;33m.\u001b[0m\u001b[0mtimeit\u001b[0m\u001b[1;33m(\u001b[0m\u001b[0mnumber\u001b[0m\u001b[1;33m)\u001b[0m\u001b[1;33m\u001b[0m\u001b[0m\n\u001b[0m\u001b[0;32m   1099\u001b[0m                 \u001b[1;32mif\u001b[0m \u001b[0mtime_number\u001b[0m \u001b[1;33m>=\u001b[0m \u001b[1;36m0.2\u001b[0m\u001b[1;33m:\u001b[0m\u001b[1;33m\u001b[0m\u001b[0m\n\u001b[0;32m   1100\u001b[0m                     \u001b[1;32mbreak\u001b[0m\u001b[1;33m\u001b[0m\u001b[0m\n",
      "\u001b[1;32mD:\\Program Files\\Anaconda3\\lib\\site-packages\\IPython\\core\\magics\\execution.py\u001b[0m in \u001b[0;36mtimeit\u001b[1;34m(self, number)\u001b[0m\n\u001b[0;32m    158\u001b[0m         \u001b[0mgc\u001b[0m\u001b[1;33m.\u001b[0m\u001b[0mdisable\u001b[0m\u001b[1;33m(\u001b[0m\u001b[1;33m)\u001b[0m\u001b[1;33m\u001b[0m\u001b[0m\n\u001b[0;32m    159\u001b[0m         \u001b[1;32mtry\u001b[0m\u001b[1;33m:\u001b[0m\u001b[1;33m\u001b[0m\u001b[0m\n\u001b[1;32m--> 160\u001b[1;33m             \u001b[0mtiming\u001b[0m \u001b[1;33m=\u001b[0m \u001b[0mself\u001b[0m\u001b[1;33m.\u001b[0m\u001b[0minner\u001b[0m\u001b[1;33m(\u001b[0m\u001b[0mit\u001b[0m\u001b[1;33m,\u001b[0m \u001b[0mself\u001b[0m\u001b[1;33m.\u001b[0m\u001b[0mtimer\u001b[0m\u001b[1;33m)\u001b[0m\u001b[1;33m\u001b[0m\u001b[0m\n\u001b[0m\u001b[0;32m    161\u001b[0m         \u001b[1;32mfinally\u001b[0m\u001b[1;33m:\u001b[0m\u001b[1;33m\u001b[0m\u001b[0m\n\u001b[0;32m    162\u001b[0m             \u001b[1;32mif\u001b[0m \u001b[0mgcold\u001b[0m\u001b[1;33m:\u001b[0m\u001b[1;33m\u001b[0m\u001b[0m\n",
      "\u001b[1;32m<magic-timeit>\u001b[0m in \u001b[0;36minner\u001b[1;34m(_it, _timer)\u001b[0m\n",
      "\u001b[1;31mNameError\u001b[0m: name 'bubbleSort' is not defined"
     ]
    }
   ],
   "source": [
    "a = random_list(10000, 0 ,10000)\n",
    "b = a\n",
    "#print(a)\n",
    "%timeit bubbleSort(a)       #2.46ms\n",
    "#%timeit selectSort(a)        #4.34s\n",
    "#%timeit insertSort(a)       #6.07  6.2s\n",
    "#%timeit a.sort()           #251us\n",
    "#%timeit mergeSort(a)        #64.8ms\n",
    "#%timeit heapSort(b)         #76.2ms\n",
    "#%timeit quickSort(a)       #27.4ms"
   ]
  },
  {
   "cell_type": "markdown",
   "metadata": {
    "heading_collapsed": true
   },
   "source": [
    "## 排序函数定义"
   ]
  },
  {
   "cell_type": "code",
   "execution_count": 11,
   "metadata": {
    "code_folding": [],
    "hidden": true
   },
   "outputs": [],
   "source": [
    "\"\"\"\n",
    "1. 冒泡排序：bubbleSort\n",
    "    1.从第一元素开始，将其与右边的远比比较，如果右边的比左边的小，就交换2个元素的位置，直到最后一个元素\n",
    "    2.重复1.中操作，直到倒数第二个元素\n",
    "    3.重复1.2.操作直到所有元素都有序\n",
    "    4.在交换操作中添加一个flag，初始化为0，当存在元素交换时，flag=1,当在一趟比较完毕时，flag=0则认为\n",
    "      序列已经有序，结束排序过程\n",
    "----------------------------------------------------------------------------------\n",
    "\"\"\"\n",
    "# 代码部分\n",
    "def bubbleSort(raw_data):\n",
    "    raw_len = len(raw_data)\n",
    "    flag = True\n",
    "    for i in range(raw_len):\n",
    "        if flag:\n",
    "            flag = False\n",
    "            for j in range(raw_len-1-i):\n",
    "                if raw_data[j] > raw_data[j+1]:\n",
    "                    swap(raw_data, j, j+1)\n",
    "                    flag = True\n",
    "#------\n",
    "\n",
    "'''\n",
    "2. 选择排序： selectSort\n",
    "    优化冒泡排序每次都要进行元素交换的操作\n",
    "    1. 数组从左往右依次与相邻元素进行比较，将两者中较小的元素的下标放在临时变量 min_p 中，\n",
    "    2. 当一趟排序结束时，此时 min_p 中存放的是所有参与比较的元素中最小的元素的下标，\n",
    "    3. 将这个元素与数组的第一个元素交换，此时第一个元素的位置已经确定，不再参与下一轮比较\n",
    "    4.重复以上操作，直到所有元素有序\n",
    "---------------------------------------------------------------------------------------\n",
    "'''\n",
    "def selectSort(raw_data):\n",
    "    raw_len = len(raw_data)\n",
    "    min_p = 0\n",
    "    for i in range(raw_len):\n",
    "        for j in range(i, raw_len):\n",
    "            if raw_data[j] < raw_data[min_p]:\n",
    "                min_p = j\n",
    "        #print('i=%d raw_len-i = %d \\n'%(i,raw_len-i))\n",
    "        swap(raw_data, min_p, i)\n",
    "#-----\n",
    "'''\n",
    "3. 插入排序： insertSort\n",
    "    1. 从数组的第二个元素开始作为哨兵，从右往左依次比较，左边元素是有序队列\n",
    "    2. 如果比较的元素比哨兵大，就将次元素往右移动一个\n",
    "    3.\n",
    "-------------------------------------------------------------------------\n",
    "'''\n",
    "def insertSort(raw_data):\n",
    "    raw_len = len(raw_data)\n",
    "    for i in range(1, raw_len):\n",
    "        tmp = raw_data[i]\n",
    "        tmp_p = i\n",
    "        while raw_data[tmp_p-1] > tmp and tmp_p >= 0:\n",
    "                raw_data[tmp_p] = raw_data[tmp_p-1]\n",
    "                tmp_p-=1\n",
    "        #print('i=%d j=%d \\n'%(i,j))      \n",
    "        raw_data[tmp_p] = tmp\n",
    "#----\n",
    "\n",
    "'''\n",
    "4. 希尔排序：shellSort\n",
    "    1. 构建一个希尔增量序列，比如n/2, n/4...直到序列完全有序\n",
    "    2. 对每个序列里面的数据进行插入排序\n",
    "---------------------------------------------------------------------------------------\n",
    "'''\n",
    "# def shellSort(raw_data):\n",
    "#     sublistcount = len(raw_data) // 2   ## 构建希尔增量\n",
    "#     while sublistcount > 0:      ## 在每个增量序列里面进行插入排序\n",
    "#         for startpositon in range(sublistcount):\n",
    "#             gapInsertionSort(raw_data, startpositon, sublistcount)\n",
    "        \n",
    "#         print('After increments of size', sublistcount, 'The list is', raw_data)\n",
    "#         sublistcount = sublistcount // 2\n",
    "\n",
    "# def gapInsertionSort(raw_data, start, gap):\n",
    "#     ## 一次插入操作\n",
    "#     for i in range(start+gap, len(raw_data), gap):\n",
    "#         currentvalue = raw_data[i]\n",
    "#         position = i \n",
    "#         while position >= gap and raw_data[position-gap] > currentvalue:\n",
    "#             raw_data[position] = raw_data[position-gap]\n",
    "#             position = position - gap\n",
    "#         #\n",
    "#         raw_data[position] = currentvalue\n",
    "#     #\n",
    "def shellSort(raw_data):\n",
    "    increment = len(raw_data)//2\n",
    "    while increment > 0:\n",
    "        for position in range(increment, len(raw_data)):\n",
    "            current = raw_data[position]\n",
    "            i = position\n",
    "            while i >= increment and raw_data[i-increment] > current:\n",
    "                raw_data[i] = raw_data[i-increment]\n",
    "                i -= increment\n",
    "            raw_data[i] = current\n",
    "        increment //= 2\n",
    "                \n",
    "'''\n",
    "5. 堆排序：heapSort\n",
    "    1. 构建一个大顶堆\n",
    "    2. 将堆顶元素堆最右下角元素交换\n",
    "    3. 去除最后一个元素，将剩余元素构造成一个大顶堆\n",
    "    4. 将堆顶元素与堆最右下角元素交换\n",
    "    5. 重复3.4.操作大顶堆的长度为1\n",
    "---------------------------------------------------------------------------------------\n",
    "序号从0开始的父亲孩子节点的关系\n",
    "    i为父亲节点：左孩子 2*i+1,右孩子 2*i+2\n",
    "    i为孩子节点：父亲 (i-1)//2\n",
    "构造大顶堆：\n",
    "    1. 从关键字的孩子节点开始，选出孩子节点中较大的节点\n",
    "    2. 将此节点与父亲节点比较，如果比父亲节点大，就交换两者的位置\n",
    "    3. 从非叶节点开始构建大顶堆\n",
    "'''\n",
    "def max_heap(list, root, heapsize):\n",
    "    left = root * 2 + 1\n",
    "    right = left + 1\n",
    "    father = root\n",
    "    #把三个节点中最大值位置放在父亲节点上\n",
    "    if left < heapsize and list[father] < list[left]:\n",
    "        father = left\n",
    "    if right < heapsize and list[father] < list[right]:\n",
    "        father = right\n",
    "    # 如果存在交换就进行以下操作\n",
    "    if father != root:\n",
    "        list[father], list[root] = list[root], list[father]\n",
    "        max_heap(list, father, heapsize)\n",
    "#\n",
    "        \n",
    "def heapSort(raw_data):\n",
    "    heapsize = len(raw_data)\n",
    "    # 构建大顶堆\n",
    "    for i in range((heapsize//2)-1, -1, -1):\n",
    "        max_heap(raw_data, i, heapsize)\n",
    "    # 进行堆排序\n",
    "    for i in range(heapsize-1, -1, -1):\n",
    "        raw_data[0], raw_data[i] = raw_data[i], raw_data[0]\n",
    "        max_heap(raw_data, 0, i)\n",
    "## \n",
    "    \n",
    "\n",
    "\n",
    "\"\"\"\n",
    "6. 归并序列:\n",
    "-------------------------------------------------------------------------------------\n",
    "    1.tmp_data为临时存放数据的表，长度与raw_data相同\n",
    "    2.raw_l为左边表的起始坐标,raw_r为右边表的起始坐标，raw_e为右边终点位置\n",
    "    3.左边表的终点位置为raw_w-1,临时表的起始位置同raw_data为raw_l\n",
    "    4.左右两个表是挨着放在一个表中\n",
    "    -----------------------------------------------------------------------------------\n",
    "    1.刚开始时3个表的指针都位于表的第一个元素的位置,\n",
    "    2.比较左右表第一个元素的大小，将小的元素复制到tmp_data第一个位置，同时将这两个表的指针往右移动一位\n",
    "    3.重复2.操作直到左右表中的元素全部用完\n",
    "    4.如有表中的元素还没有全部复制到tmp_data中，继续将其复制到tmp_data中\n",
    "----------------------------------------------------------------------------------------\n",
    "\"\"\"\n",
    "\n",
    "def merge(left, right):\n",
    "    result = []\n",
    "    i,j = 0, 0\n",
    "    while i<len(left) and j<len(right):\n",
    "        if left[i] <= right[j]:\n",
    "            result.append(left[i])\n",
    "            i += 1\n",
    "        else:\n",
    "            result.append(right[j])\n",
    "            j += 1\n",
    "    #将left 或者 right 剩下的元素放入result中\n",
    "    #print('result:', result)\n",
    "    if i < len(left):\n",
    "        result += left[i:]\n",
    "    if j < len(right):\n",
    "        result += right[j:] \n",
    "    #print('left, right, result', left, right, result)\n",
    "    \n",
    "    return result\n",
    "# 递归算法\n",
    "def mergeSort(raw_data):\n",
    "    if len(raw_data) <=1:\n",
    "        return raw_data\n",
    "    mid = len(raw_data) // 2\n",
    "    left = mergeSort(raw_data[:mid])\n",
    "    right = mergeSort(raw_data[mid:])\n",
    "    return merge(left, right)\n",
    "# 非递归算法\n",
    "# def mergeSort(raw_data):\n",
    "    \n",
    "            \n",
    "# 归并排序\n",
    "'''\n",
    "7. 快速排序\n",
    "    通过一趟排序将待排记录分割成独立的两部分，其中一部分的关键字均比另一部分小。分别对这两部分继续进行排序。\n",
    "    1. 选择一个枢轴，分别在左右端设置两个指针。\n",
    "    2. 移动左指针，直到当前元素大于枢轴元素。\n",
    "    3. 移动右指针，直到当前元素小于枢轴元素。\n",
    "    4. 继续2. 3. 操作，直到右指针小于左指针。\n",
    "    5. 交换枢轴元素，右指针当前元素。\n",
    "    6. 对枢轴左右两侧元素分别进行快排。\n",
    "-----------------------------------------------------------------------------------------\n",
    "'''\n",
    "def quickSort(raw_data):\n",
    "    quicksort(raw_data, 0, len(raw_data)-1)\n",
    "##\n",
    "def quicksort(array, low, high):\n",
    "    if low < high:\n",
    "        key_index = partion(array, low, high)\n",
    "        #print(key_index, low, high)\n",
    "        quicksort(array, low, key_index)\n",
    "        quicksort(array, key_index+1, high)\n",
    "# end def\n",
    "def partion(array, low, high):\n",
    "    # 三选一\n",
    "    median = low + (high - low)//2\n",
    "    if array[low] > array[high]:\n",
    "        array[low], array[high] = array[high], array[low]\n",
    "    if array[median] > array[high]:\n",
    "        array[high], array[median] = array[median], array[high]\n",
    "    if array[median] > array[low]:\n",
    "        array[low], array[median] = array[median], array[low]\n",
    "    \n",
    "    pivot = array[low]\n",
    "   # print(array[low],array[median],array[high])\n",
    "    while low < high:\n",
    "        while array[high] >= pivot and low < high:\n",
    "            high -= 1\n",
    "        if low < high:\n",
    "            array[low] = array[high]\n",
    "        while array[low] < pivot and low < high:\n",
    "            low += 1\n",
    "        if low < high:\n",
    "            array[high] = array[low]\n",
    "            \n",
    "    array[low] = pivot\n",
    "    return low\n",
    "# end def \n",
    "    \n",
    "\n",
    "\n",
    "\n"
   ]
  },
  {
   "cell_type": "markdown",
   "metadata": {
    "heading_collapsed": true
   },
   "source": [
    "## test"
   ]
  },
  {
   "cell_type": "code",
   "execution_count": null,
   "metadata": {
    "hidden": true
   },
   "outputs": [],
   "source": [
    "a = random_list(10, 0, 100)\n",
    "print(a)\n",
    "quickSort(a)\n",
    "print(a)\n",
    "\n",
    "\n"
   ]
  },
  {
   "cell_type": "markdown",
   "metadata": {},
   "source": [
    "# 查找"
   ]
  },
  {
   "cell_type": "code",
   "execution_count": 39,
   "metadata": {},
   "outputs": [],
   "source": [
    "'''\n",
    "1. 顺序查找\n",
    "'''\n",
    "def seqSearch(data, item):\n",
    "    pos = 0\n",
    "    found = False\n",
    "    while pos < len(data) and not found:\n",
    "        if data[pos] == item:\n",
    "            found = True\n",
    "        else:\n",
    "            pos +=1\n",
    "    return found\n",
    "'''\n",
    "2. 二分查找\n",
    "'''\n",
    "def binarySearch(data, item):\n",
    "    left = 0\n",
    "    right = len(data)-1\n",
    "    found = False\n",
    "    while left <= right and not found:\n",
    "        pos = (left + right) // 2\n",
    "        if item == data[pos]:\n",
    "            found = True\n",
    "        elif item < data[pos]:\n",
    "            right = pos-1\n",
    "        else:\n",
    "            left = pos+1\n",
    "    return found\n",
    "\n",
    "'''\n",
    "3.hash查找\n",
    "'''\n",
    "class HashTable:\n",
    "    def __init__(self):\n",
    "        self.size = 11\n",
    "        self.slots = [None] * self.size\n",
    "        self.data = [None] * self.size\n",
    "    \n",
    "    def hashfunction(self, key, size):\n",
    "        return key%size\n",
    "    \n",
    "    def rehash(self, oldhash, size):\n",
    "        return (oldhash + 1) % size\n",
    "    \n",
    "    def put(self, key, value):\n",
    "        hashvalue = self.hashfunction(key, len(self.slots))\n",
    "        if self.slots[hashvalue] == None:\n",
    "            self.slots[hashvalue] = key\n",
    "            self.data[hashvalue] = value\n",
    "        else:\n",
    "            if self.slots[hashvalue] == key:\n",
    "                self.data[hashvalue] = value #refresh the value\n",
    "            else:\n",
    "                nextslot = self.rehash(hashvalue, len(self.slots))\n",
    "                while self.slots[nextslot] != None and self.slots[nextslot] != key:\n",
    "                    nextslot = self.rehash(nextslot, len(self.slots)) #until find\n",
    "                \n",
    "                if self.slots[nextslot] == None:\n",
    "                    self.slots[nextslot] = key\n",
    "                    self.data[nextslot] = value\n",
    "                else:\n",
    "                    self.data[nextslot] = value #refresh\n",
    "    \n",
    "    def get(self, key):\n",
    "        startslot = self.hashfunction(key, len(self.slots))\n",
    "        \n",
    "        data = None\n",
    "        stop = False\n",
    "        found = False\n",
    "        position = startslot\n",
    "        while self.slots[position] != None and not found and not stop:\n",
    "            if self.slots[position] == key:\n",
    "                found = True\n",
    "                data = self.data[position]\n",
    "            else:\n",
    "                position = self.rehash(position, len(self.slots))\n",
    "                if position == startslot: #遍历整个hash没有找到\n",
    "                    stop = True\n",
    "        return data\n",
    "    \n",
    "    def __getitem__(self, key):\n",
    "        return self.get(key)\n",
    "    \n",
    "    def __setitem__(self, key, data):\n",
    "        self.put(key, data)"
   ]
  },
  {
   "cell_type": "markdown",
   "metadata": {},
   "source": [
    "## test"
   ]
  },
  {
   "cell_type": "code",
   "execution_count": 21,
   "metadata": {},
   "outputs": [
    {
     "data": {
      "text/plain": [
       "[989, 1347, 1679, 2546, 4212, 4220, 6227, 7982, 8749, 9935]"
      ]
     },
     "execution_count": 21,
     "metadata": {},
     "output_type": "execute_result"
    }
   ],
   "source": [
    "a = random_list(10, 0, 10000)\n",
    "bubbleSort(a)\n",
    "a"
   ]
  },
  {
   "cell_type": "code",
   "execution_count": 14,
   "metadata": {},
   "outputs": [
    {
     "name": "stdout",
     "output_type": "stream",
     "text": [
      "1.78 ms ± 21.4 µs per loop (mean ± std. dev. of 7 runs, 1000 loops each)\n"
     ]
    }
   ],
   "source": [
    "%timeit seqSearch(a, 100001)"
   ]
  },
  {
   "cell_type": "code",
   "execution_count": 41,
   "metadata": {},
   "outputs": [],
   "source": [
    "H = HashTable()\n",
    "H[54]=\"cat\"\n",
    "H[26]=\"dog\"\n",
    "H[93]=\"lion\"\n",
    "H[17]=\"tiger\"\n",
    "H[77]=\"bird\"\n",
    "H[31]=\"cow\"\n",
    "H[44]=\"goat\"\n",
    "H[55]=\"pig\"\n",
    "H[20]=\"chicken\"\n"
   ]
  },
  {
   "cell_type": "code",
   "execution_count": 45,
   "metadata": {},
   "outputs": [
    {
     "data": {
      "text/plain": [
       "'aaaa'"
      ]
     },
     "execution_count": 45,
     "metadata": {},
     "output_type": "execute_result"
    }
   ],
   "source": [
    "H[20] = 'aaaa'\n",
    "H.get(20)"
   ]
  },
  {
   "cell_type": "markdown",
   "metadata": {},
   "source": [
    "# xxx"
   ]
  },
  {
   "cell_type": "code",
   "execution_count": null,
   "metadata": {},
   "outputs": [],
   "source": []
  },
  {
   "cell_type": "code",
   "execution_count": null,
   "metadata": {},
   "outputs": [],
   "source": []
  },
  {
   "cell_type": "code",
   "execution_count": null,
   "metadata": {},
   "outputs": [],
   "source": []
  }
 ],
 "metadata": {
  "kernelspec": {
   "display_name": "Python 3",
   "language": "python",
   "name": "python3"
  },
  "language_info": {
   "codemirror_mode": {
    "name": "ipython",
    "version": 3
   },
   "file_extension": ".py",
   "mimetype": "text/x-python",
   "name": "python",
   "nbconvert_exporter": "python",
   "pygments_lexer": "ipython3",
   "version": "3.6.5"
  }
 },
 "nbformat": 4,
 "nbformat_minor": 2
}
