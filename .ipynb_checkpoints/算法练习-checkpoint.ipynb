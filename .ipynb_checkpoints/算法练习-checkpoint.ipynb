{
 "cells": [
  {
   "cell_type": "markdown",
   "metadata": {},
   "source": [
    "# 排序算法"
   ]
  },
  {
   "cell_type": "markdown",
   "metadata": {},
   "source": [
    "## 排序函数定义"
   ]
  },
  {
   "cell_type": "code",
   "execution_count": null,
   "metadata": {},
   "outputs": [],
   "source": [
    "# 归并序列\n",
    "\"\"\"\n",
    "1.tmp_data为临时存放数据的表，长度与raw_data相同\n",
    "2.raw_l为左边表的起始坐标,raw_r为右边表的起始坐标，raw_e为右边终点位置\n",
    "3.左边表的终点位置为raw_w-1,临时表的起始位置同raw_data为raw_l\n",
    "4.左右两个表是挨着放在一个表中\n",
    "---------------------------------------------------------------------------------\n",
    "1.刚开始时3个表的指针都位于表的第一个元素的位置,\n",
    "2.比较左右表第一个元素的大小，将小的元素复制到tmp_data第一个位置，同时将这两个表的指针往右移动一位\n",
    "3.重复2.操作直到左右表中的元素全部用完\n",
    "4.如有表中的元素还没有全部复制到tmp_data中，继续将其复制到tmp_data中\n",
    "\"\"\"\n",
    "\n",
    "def Merge(raw_data, tmp_data, raw_l, raw_r, raw_e):\n",
    "    left_e = raw_r -1\n",
    "    tmp_l = raw_l\n",
    "    raw_len = raw_e - raw_l +1\n",
    "    while (raw_l < left_e) and (raw_r < raw_e):\n",
    "        if raw_data[raw_l] <= raw_data[raw_r]:\n",
    "            tmp_data[tmp_l] = raw_data[raw_l]\n",
    "            tmp_l+=1\n",
    "            raw_l+=1\n",
    "        else:\n",
    "            raw_data[tmp_l] = raw_data[raw_r]\n",
    "            tmp_l+=1\n",
    "            raw_r+=1\n",
    "    while raw_l <= left_e:\n",
    "        tmp_data[tmp_l] = raw_data[raw_l]\n",
    "        tmp_l+=1\n",
    "        raw_l+=1\n",
    "    while raw_r <= raw_e:\n",
    "        tmp_data[tmp_l] = raw_data[raw_r]\n",
    "        tmp_l+=1\n",
    "        raw_r+=1\n",
    "    #复制剩下的表元素\n",
    "    while(raw_l <= left_e):\n",
    "        tmp_data[tmp_l] = raw_data[raw_l]\n",
    "        tmp_l+=1\n",
    "        raw_l+=1\n",
    "    while(raw_r <= raw_e):\n",
    "        tmp_data[tmp_l] =raw_data[raw_r]\n",
    "        tmp_l+=1\n",
    "        raw_r+=1\n",
    "    #将raw_data中改变为tmp_data中元素\n",
    "    for \n",
    "            \n",
    "# 归并排序\n",
    "def MergeSort(data_list):\n",
    "    "
   ]
  },
  {
   "cell_type": "code",
   "execution_count": 7,
   "metadata": {},
   "outputs": [
    {
     "name": "stdout",
     "output_type": "stream",
     "text": [
      "1 2\n"
     ]
    }
   ],
   "source": [
    "t = 1; r=2\n",
    "print(\"%d %d\"%(t,r))"
   ]
  }
 ],
 "metadata": {
  "kernelspec": {
   "display_name": "Python 3",
   "language": "python",
   "name": "python3"
  },
  "language_info": {
   "codemirror_mode": {
    "name": "ipython",
    "version": 3
   },
   "file_extension": ".py",
   "mimetype": "text/x-python",
   "name": "python",
   "nbconvert_exporter": "python",
   "pygments_lexer": "ipython3",
   "version": "3.6.5"
  }
 },
 "nbformat": 4,
 "nbformat_minor": 2
}
