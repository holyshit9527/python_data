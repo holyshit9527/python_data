{
 "cells": [
  {
   "cell_type": "markdown",
   "metadata": {},
   "source": [
    "# Python数据结构实现"
   ]
  },
  {
   "cell_type": "markdown",
   "metadata": {
    "heading_collapsed": true
   },
   "source": [
    "## 线型结构"
   ]
  },
  {
   "cell_type": "code",
   "execution_count": 1,
   "metadata": {
    "hidden": true
   },
   "outputs": [],
   "source": [
    "# 栈\n",
    "class Stack:\n",
    "    def __init__(self):\n",
    "        self.items = []\n",
    "    \n",
    "    def isEmpty(self):\n",
    "        return self.items == []\n",
    "    \n",
    "    def push(self, item):\n",
    "        self.items.append(item)\n",
    "    \n",
    "    def pop(self):\n",
    "        return self.items.pop()\n",
    "    \n",
    "    def peek(self):\n",
    "        return self.items[len(self.items) - 1]\n",
    "    \n",
    "    def size(self):\n",
    "        return len(self.items)\n",
    "    "
   ]
  },
  {
   "cell_type": "code",
   "execution_count": null,
   "metadata": {
    "hidden": true
   },
   "outputs": [],
   "source": []
  },
  {
   "cell_type": "markdown",
   "metadata": {
    "heading_collapsed": true
   },
   "source": [
    "## 链表"
   ]
  },
  {
   "cell_type": "code",
   "execution_count": 2,
   "metadata": {
    "hidden": true
   },
   "outputs": [],
   "source": [
    "# 节点 Node\n",
    "class Node:\n",
    "    def __init__(self, initdata):\n",
    "        self.data = initdata\n",
    "        self.next = None\n",
    "    \n",
    "    def getData(self):\n",
    "        return self.data\n",
    "    \n",
    "    def getNext(self):\n",
    "        return self.next\n",
    "    \n",
    "    def setData(self, newdata):\n",
    "        self.data = newdata\n",
    "    \n",
    "    def setNext(self, newnext):\n",
    "        self.next = newnext\n",
    "# 链表\n",
    "class Unlist:\n",
    "    def __init__(self):\n",
    "        self.head = None\n",
    "    \n",
    "    def isEmpty(self):\n",
    "        return self.head == None\n",
    "    # 创建一个新的节点置于头部，新节点的next指向原头部节点，头部指针指向新节点\n",
    "    def add(self, item):\n",
    "        temp = Node(item)\n",
    "        temp.setNext(self.head)\n",
    "        self.head = temp\n",
    "        \n",
    "    def size(self):\n",
    "        current = self.head\n",
    "        count = 0\n",
    "        while current != None:\n",
    "            count+=1\n",
    "            current = current.getNext()\n",
    "        return count\n",
    "    \n",
    "    def find(self, item):\n",
    "        current = self.head\n",
    "        found = False\n",
    "        while current != None and not found:\n",
    "            if current.getData() == item:\n",
    "                found = True\n",
    "            else:\n",
    "                current = current.getNext()\n",
    "        return found\n",
    "    \n",
    "    def remove(self, item):\n",
    "        current = self.head\n",
    "        previous = None\n",
    "        found = False\n",
    "        # 搜索要删除的元素，找到后如果是链表头元素直接将头部元素设为下一个元素\n",
    "        # 如果不是表头元素，则将前一个的节点的指针指向当前的下一个节点\n",
    "        while not found:\n",
    "            if current.getData() == item:\n",
    "                found = True\n",
    "            else:\n",
    "                previous = current\n",
    "                current = current.getNext()\n",
    "        if previous == None:\n",
    "            self.head = current.getNext()\n",
    "        else:\n",
    "            previous.setNext(current.getNext())\n",
    "        "
   ]
  },
  {
   "cell_type": "code",
   "execution_count": 3,
   "metadata": {
    "hidden": true
   },
   "outputs": [
    {
     "name": "stdout",
     "output_type": "stream",
     "text": [
      "6\n",
      "\n",
      "\n",
      "5\n"
     ]
    }
   ],
   "source": [
    "mylist  = Unlist()\n",
    "mylist.add(1)\n",
    "mylist.add(2)\n",
    "mylist.add(16)\n",
    "mylist.add(15)\n",
    "mylist.add(15)\n",
    "mylist.add(15)\n",
    "print(mylist.size())\n",
    "print('\\n')\n",
    "mylist.remove(1)\n",
    "print(mylist.size())"
   ]
  },
  {
   "cell_type": "markdown",
   "metadata": {
    "heading_collapsed": true
   },
   "source": [
    "## 有序表"
   ]
  },
  {
   "cell_type": "code",
   "execution_count": null,
   "metadata": {
    "hidden": true
   },
   "outputs": [],
   "source": [
    "# 有序表\n",
    "class OrderedList:\n",
    "    def __init__(self):\n",
    "        self.head = None\n",
    "        \n",
    "    def isEmpty(self):\n",
    "        return self.head == None\n",
    "    \n",
    "    def size(self):\n",
    "        current = self.head\n",
    "        count = 0\n",
    "        while current != None:\n",
    "            current = current.getNext()\n",
    "            count += 1\n",
    "            return count\n",
    "    \n",
    "    def search(self, item):\n",
    "        current = self.head\n",
    "        found = False\n",
    "        stop = False\n",
    "        while current != None and not found and not stop:\n",
    "            if current.getData() == item:\n",
    "                found = True\n",
    "                stop = True\n",
    "            else:\n",
    "                if current.getData() > item:\n",
    "                    stop = True\n",
    "                else:\n",
    "                    current = current.getNext()\n",
    "        return found\n",
    "    \n",
    "    def add(self, item):\n",
    "        current = self.head\n",
    "        previous = None\n",
    "        stop = False\n",
    "        while current != None not stop:\n",
    "            if current.getNext() > item:\n",
    "                stop =True\n",
    "            else:\n",
    "                previous = current\n",
    "                current = current.getNext()\n",
    "        \n",
    "        temp = Node(item)\n",
    "        if previous == None:\n",
    "            temp.setNext(self.head)\n",
    "            self.head = temp\n",
    "        else:\n",
    "            temp.setNext(current)\n",
    "            previous.setNext(temp)\n",
    "        \n",
    "            \n",
    "        \n",
    "    "
   ]
  },
  {
   "cell_type": "markdown",
   "metadata": {},
   "source": [
    "## 树"
   ]
  },
  {
   "cell_type": "code",
   "execution_count": 48,
   "metadata": {
    "code_folding": [
     37
    ]
   },
   "outputs": [],
   "source": [
    "## 构建节点树类\n",
    "class BinaryTree:\n",
    "    def __init__(self, rootObj):\n",
    "        self.key = rootObj\n",
    "        self.leftchild = None\n",
    "        self.rightchild = None\n",
    "    \n",
    "    def insertLeft(self, newNode):\n",
    "        if self.leftchild == None:\n",
    "            self.leftchild = BinaryTree(newNode)\n",
    "        else:\n",
    "            #若左孩子不空，则将新的节点作为左节点，旧的放在新节点的左孩子节点上\n",
    "            t = BinaryTree(newNode)\n",
    "            t.leftchild = self.leftchild\n",
    "            self.leftchild = t\n",
    "    \n",
    "    def insertRight(self, newNode):\n",
    "        if self.rightchild == None:\n",
    "            self.rightchild = BinaryTree(newNode)\n",
    "        else:\n",
    "            t = BinaryTree(newNode)\n",
    "            t.rightchild = self.rightchild\n",
    "            self.rightchild = t\n",
    "    \n",
    "    def getLeftchild(self):\n",
    "        return self.leftchild\n",
    "    \n",
    "    def getRightchild(self):\n",
    "        return self.rightchild\n",
    "    \n",
    "    def setRootval(self, obj):\n",
    "        self.key = bojb\n",
    "    \n",
    "    def getRootval(self):\n",
    "        return self.key\n",
    "    \n",
    "#前序遍历\n",
    "def preorder(tree):\n",
    "    if tree:\n",
    "        print(tree.getRootval())\n",
    "        preorder(tree.getLeftchild())\n",
    "        preorder(tree.getRightchild())\n",
    "    return None\n",
    "\n",
    "## 堆\n",
    "class BinHeap:\n",
    "    def __init__(self):\n",
    "        self.heapList = []\n",
    "        self.currentSize = 0\n",
    "    \n",
    "    # 孩子节点中最大的\n",
    "    def MaxChild(self, i):\n",
    "        leftchild = 2*i + 1\n",
    "        rightchild = leftchild + 1\n",
    "        #print('MaxChild')\n",
    "        #右孩子出界，只有左孩子\n",
    "        if rightchild > self.currentSize-1:\n",
    "            return leftchild\n",
    "        else:\n",
    "            #两个孩子中选大的\n",
    "            if self.heapList[leftchild] > self.heapList[rightchild]:\n",
    "                return leftchild\n",
    "            else:\n",
    "                return rightchild\n",
    "    #\n",
    "    \n",
    "        \n",
    "    def perUp(self, i):\n",
    "        root = (i//2) - 1\n",
    "        while root > 0:\n",
    "            # 当子节点大于父节点，就交换两者的位置，游标指向父节点\n",
    "            if self.heapList[i] > self.heapList[root]:\n",
    "                self.heapList[i], self.heapList[root] = self.heapList[root], self.heapList[i]\n",
    "            i = (root//2) - 1\n",
    "            \n",
    "    def perDown(self, i):\n",
    "        while (2*i + 1) < self.currentSize-1:\n",
    "            maxchild = self.MaxChild(i)\n",
    "            print('maxchild:', maxchild, 'root:', self.heapList[i])\n",
    "            if self.heapList[i] < self.heapList[maxchild]:\n",
    "                self.heapList[i], self.heapList[maxchild] = self.heapList[maxchild], self.heapList[i]\n",
    "                print(self.heapList)\n",
    "            i = maxchild\n",
    "            \n",
    "        \n",
    "    def insert(self, item):\n",
    "        self.heapList.append(item)\n",
    "        self.currentSize += 1\n",
    "        self.perUp(self, self.currentSize-1)\n",
    "    \n",
    "    def delMax(self):\n",
    "        MaxItem = self.heapList[0]\n",
    "        self.heapList[0] = self.heapList[currentSize-1]\n",
    "        self.currentSize -= 1\n",
    "        self.heapList.pop()\n",
    "        self.perDown(0)\n",
    "        return MaxItem\n",
    "    \n",
    "    def buildHeap(self, alist):\n",
    "        i = len(alist)//2 -1\n",
    "        self.currentSize = len(alist)\n",
    "        self.heapList = alist\n",
    "        while i >= 0:\n",
    "            print('当前根节点：',i)\n",
    "            self.perDown(i)\n",
    "            i -= 1\n",
    "#  \n",
    "\n"
   ]
  },
  {
   "cell_type": "code",
   "execution_count": 49,
   "metadata": {},
   "outputs": [
    {
     "name": "stdout",
     "output_type": "stream",
     "text": [
      "当前根节点： 2\n",
      "当前根节点： 1\n",
      "maxchild: 4 root: 4\n",
      "[9, 5, 3, 1, 4, 2]\n",
      "当前根节点： 0\n",
      "maxchild: 1 root: 9\n",
      "maxchild: 4 root: 5\n"
     ]
    },
    {
     "data": {
      "text/plain": [
       "[9, 5, 3, 1, 4, 2]"
      ]
     },
     "execution_count": 49,
     "metadata": {},
     "output_type": "execute_result"
    }
   ],
   "source": [
    "bh = BinHeap()\n",
    "bh.buildHeap([9,4,3,1,5,2])\n",
    "bh.heapList"
   ]
  },
  {
   "cell_type": "code",
   "execution_count": 18,
   "metadata": {},
   "outputs": [
    {
     "name": "stdout",
     "output_type": "stream",
     "text": [
      "[72, 49, 46, 61, 32, 26, 84, 11, 87, 70]\n",
      "root: 32, larger:70\n",
      "root: 61, larger:87\n",
      "root: 46, larger:84\n",
      "root: 49, larger:87\n",
      "root: 49, larger:61\n",
      "root: 72, larger:87\n",
      "[87, 72, 84, 61, 70, 26, 46, 11, 49, 32]\n"
     ]
    }
   ],
   "source": [
    "def max_heap(data, root, heapsize):\n",
    "    leftchild = 2*root + 1\n",
    "    rightchild = leftchild + 1\n",
    "    larger = root\n",
    "    if leftchild < heapsize and data[leftchild] > data[larger]:\n",
    "        larger = leftchild\n",
    "    if rightchild < heapsize and data[rightchild] > data[larger]:\n",
    "        larger = rightchild\n",
    "    \n",
    "    if larger != root:\n",
    "        print('root: %d, larger:%d' % (data[root], data[larger]))\n",
    "        data[root], data[larger] = data[larger], data[root]\n",
    "        max_heap(data, larger, heapsize)\n",
    "    return None\n",
    "        \n",
    "### 生成长度为n的从a,到b的随机序列\n",
    "def random_list(n, a, b):\n",
    "    from random import randint\n",
    "    data = []\n",
    "    for i in range(n):\n",
    "        data.append(randint(a, b))\n",
    "    return data\n",
    "#\n",
    "def heapSort(data):\n",
    "    heapsize = len(data)\n",
    "    root = (heapsize // 2) - 1\n",
    "    for i in range(root, -1, -1):\n",
    "        max_heap(data, i, heapsize)\n",
    "data = random_list(10, 1, 100)\n",
    "print(data)\n",
    "heapSort(data)\n",
    "print(data)"
   ]
  },
  {
   "cell_type": "code",
   "execution_count": null,
   "metadata": {},
   "outputs": [],
   "source": []
  }
 ],
 "metadata": {
  "kernelspec": {
   "display_name": "Python 3",
   "language": "python",
   "name": "python3"
  },
  "language_info": {
   "codemirror_mode": {
    "name": "ipython",
    "version": 3
   },
   "file_extension": ".py",
   "mimetype": "text/x-python",
   "name": "python",
   "nbconvert_exporter": "python",
   "pygments_lexer": "ipython3",
   "version": "3.6.5"
  }
 },
 "nbformat": 4,
 "nbformat_minor": 2
}
