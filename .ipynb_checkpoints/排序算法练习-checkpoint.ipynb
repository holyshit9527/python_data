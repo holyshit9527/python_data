{
 "cells": [
  {
   "cell_type": "markdown",
   "metadata": {},
   "source": [
    "# 排序算法"
   ]
  },
  {
   "cell_type": "markdown",
   "metadata": {},
   "source": [
    "#### 预备函数"
   ]
  },
  {
   "cell_type": "code",
   "execution_count": 8,
   "metadata": {},
   "outputs": [],
   "source": [
    "'''\n",
    "1. 交换数组中2个元素， i, j为元素的下标\n",
    "2. python 中可以使用 a,b = b,a 交换2个元素\n",
    "'''\n",
    "\n",
    "def swap(data, i, j):\n",
    "    if i > len(data):\n",
    "        return False\n",
    "    if j >len(data):\n",
    "        return False\n",
    "    t = data[i]\n",
    "    data[i] = data[j]\n",
    "    data[j] = t\n",
    "\n",
    "### 生成长度为n的从a,到b的随机序列\n",
    "def random_list(n, a, b):\n",
    "    from random import randint\n",
    "    data = []\n",
    "    for i in range(n):\n",
    "        data.append(randint(a, b))\n",
    "    return data\n",
    "#\n"
   ]
  },
  {
   "cell_type": "code",
   "execution_count": 15,
   "metadata": {},
   "outputs": [
    {
     "name": "stdout",
     "output_type": "stream",
     "text": [
      "3.79 s ± 290 ms per loop (mean ± std. dev. of 7 runs, 1 loop each)\n"
     ]
    }
   ],
   "source": [
    "a = random_list(10000, 0 ,10000)\n",
    "#print(a)\n",
    "#%timeit bubbleSort(a)   #1.59us 1.31ms\n",
    "%timeit selectSort(a)    #9.94 3.39s\n",
    "#%timeit insertSort(a)    #6.07  6.2s\n",
    "# %timeit a.sort()         #247ns 207us\n",
    "#a"
   ]
  },
  {
   "cell_type": "markdown",
   "metadata": {},
   "source": [
    "## 排序函数定义"
   ]
  },
  {
   "cell_type": "code",
   "execution_count": 12,
   "metadata": {
    "code_folding": []
   },
   "outputs": [],
   "source": [
    "\"\"\"\n",
    "1. 冒泡排序：bubbleSort\n",
    "    1.从第一元素开始，将其与右边的远比比较，如果右边的比左边的小，就交换2个元素的位置，直到最后一个元素\n",
    "    2.重复1.中操作，直到倒数第二个元素\n",
    "    3.重复1.2.操作直到所有元素都有序\n",
    "    4.在交换操作中添加一个flag，初始化为0，当存在元素交换时，flag=1,当在一趟比较完毕时，flag=0则认为\n",
    "      序列已经有序，结束排序过程\n",
    "----------------------------------------------------------------------------------\n",
    "\"\"\"\n",
    "# 代码部分\n",
    "def bubbleSort(raw_data):\n",
    "    raw_len = len(raw_data)\n",
    "    flag = True\n",
    "    for i in range(raw_len):\n",
    "        if flag:\n",
    "            flag = False\n",
    "            for j in range(raw_len-1-i):\n",
    "                if raw_data[j] > raw_data[j+1]:\n",
    "                    swap(raw_data, j, j+1)\n",
    "                    flag = True\n",
    "#------\n",
    "\n",
    "'''\n",
    "2. 选择排序： selectSort\n",
    "    优化冒泡排序每次都要进行元素交换的操作\n",
    "    1. 数组从左往右依次与相邻元素进行比较，将两者中较小的元素的下标放在临时变量 min_p 中，\n",
    "    2. 当一趟排序结束时，此时 min_p 中存放的是所有参与比较的元素中最小的元素的下标，\n",
    "    3. 将这个元素与数组的第一个元素交换，此时第一个元素的位置已经确定，不再参与下一轮比较\n",
    "    4.重复以上操作，直到所有元素有序\n",
    "---------------------------------------------------------------------------------------\n",
    "'''\n",
    "def selectSort(raw_data):\n",
    "    raw_len = len(raw_data)\n",
    "    min_p = 0\n",
    "    for i in range(raw_len):\n",
    "        for j in range(i, raw_len):\n",
    "            if raw_data[j] < raw_data[min_p]:\n",
    "                min_p = j\n",
    "        #print('i=%d raw_len-i = %d \\n'%(i,raw_len-i))\n",
    "        swap(raw_data, min_p, i)\n",
    "#-----\n",
    "'''\n",
    "3. 插入排序： insertSort\n",
    "    1. 从数组的第二个元素开始作为哨兵，从右往左依次比较，左边元素是有序队列\n",
    "    2. 如果比较的元素比哨兵大，就将次元素往右移动一个\n",
    "    3.\n",
    "-------------------------------------------------------------------------\n",
    "'''\n",
    "def insertSort(raw_data):\n",
    "    raw_len = len(raw_data)\n",
    "    for i in range(1, raw_len):\n",
    "        tmp = raw_data[i]\n",
    "        tmp_p = i\n",
    "        while raw_data[tmp_p-1] > tmp and tmp_p >= 0:\n",
    "                raw_data[tmp_p] = raw_data[tmp_p-1]\n",
    "                tmp_p-=1\n",
    "        #print('i=%d j=%d \\n'%(i,j))      \n",
    "        raw_data[tmp_p] = tmp\n",
    "#----\n",
    "\n",
    "'''\n",
    "4. 希尔排序：shellSort\n",
    "\n",
    "'''\n",
    "\n",
    "\"\"\"\n",
    "归并序列:\n",
    "-------------------------------------------------------------------------------------\n",
    "    1.tmp_data为临时存放数据的表，长度与raw_data相同\n",
    "    2.raw_l为左边表的起始坐标,raw_r为右边表的起始坐标，raw_e为右边终点位置\n",
    "    3.左边表的终点位置为raw_w-1,临时表的起始位置同raw_data为raw_l\n",
    "    4.左右两个表是挨着放在一个表中\n",
    "    -----------------------------------------------------------------------------------\n",
    "    1.刚开始时3个表的指针都位于表的第一个元素的位置,\n",
    "    2.比较左右表第一个元素的大小，将小的元素复制到tmp_data第一个位置，同时将这两个表的指针往右移动一位\n",
    "    3.重复2.操作直到左右表中的元素全部用完\n",
    "    4.如有表中的元素还没有全部复制到tmp_data中，继续将其复制到tmp_data中\n",
    "----------------------------------------------------------------------------------------\n",
    "\"\"\"\n",
    "\n",
    "def Merge(raw_data, tmp_data, raw_l, raw_r, raw_e):\n",
    "    left_e = raw_r -1\n",
    "    tmp_l = raw_l\n",
    "    raw_len = raw_e - raw_l +1\n",
    "    while (raw_l < left_e) and (raw_r < raw_e):\n",
    "        if raw_data[raw_l] <= raw_data[raw_r]:\n",
    "            tmp_data[tmp_l] = raw_data[raw_l]\n",
    "            tmp_l+=1\n",
    "            raw_l+=1\n",
    "        else:\n",
    "            raw_data[tmp_l] = raw_data[raw_r]\n",
    "            tmp_l+=1\n",
    "            raw_r+=1\n",
    "    while raw_l <= left_e:\n",
    "        tmp_data[tmp_l] = raw_data[raw_l]\n",
    "        tmp_l+=1\n",
    "        raw_l+=1\n",
    "    while raw_r <= raw_e:\n",
    "        tmp_data[tmp_l] = raw_data[raw_r]\n",
    "        tmp_l+=1\n",
    "        raw_r+=1\n",
    "    #复制剩下的表元素\n",
    "    while(raw_l <= left_e):\n",
    "        tmp_data[tmp_l] = raw_data[raw_l]\n",
    "        tmp_l+=1\n",
    "        raw_l+=1\n",
    "    while(raw_r <= raw_e):\n",
    "        tmp_data[tmp_l] =raw_data[raw_r]\n",
    "        tmp_l+=1\n",
    "        raw_r+=1\n",
    "    #将raw_data中改变为tmp_data中元素\n",
    "            \n",
    "# 归并排序\n"
   ]
  },
  {
   "cell_type": "markdown",
   "metadata": {
    "heading_collapsed": true
   },
   "source": [
    "## test"
   ]
  },
  {
   "cell_type": "code",
   "execution_count": null,
   "metadata": {
    "hidden": true
   },
   "outputs": [],
   "source": []
  }
 ],
 "metadata": {
  "kernelspec": {
   "display_name": "Python 3",
   "language": "python",
   "name": "python3"
  },
  "language_info": {
   "codemirror_mode": {
    "name": "ipython",
    "version": 3
   },
   "file_extension": ".py",
   "mimetype": "text/x-python",
   "name": "python",
   "nbconvert_exporter": "python",
   "pygments_lexer": "ipython3",
   "version": "3.6.5"
  }
 },
 "nbformat": 4,
 "nbformat_minor": 2
}
