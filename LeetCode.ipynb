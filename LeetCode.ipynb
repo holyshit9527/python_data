{
 "cells": [
  {
   "cell_type": "markdown",
   "metadata": {},
   "source": [
    "> 1---283. Move Zeroes\n",
    "\n",
    "Given an array nums, write a function to move all 0's to the end of it while maintaining the relative order of the non-zero elements.\n",
    "\n",
    "Example:\n",
    "\n",
    "Input: [0,1,0,3,12]\n",
    "Output: [1,3,12,0,0]\n",
    "Note:\n",
    "\n",
    "You must do this in-place without making a copy of the array.\n",
    "Minimize the total number of operations."
   ]
  },
  {
   "cell_type": "code",
   "execution_count": 50,
   "metadata": {},
   "outputs": [],
   "source": [
    "'''\n",
    "时间复杂福：O(n)\n",
    "空间复杂度：O(n)\n",
    "新建一个全是0的数组b，扫描数组a将非0按顺序放在新建的b里面\n",
    "扫描完毕将b赋值给a\n",
    "'''\n",
    "def solution(nums):\n",
    "    temp = [0] * len(nums)\n",
    "    j = 0\n",
    "    for i in range(len(nums)):\n",
    "        if nums[i] != 0:\n",
    "            temp[j] = nums[i]\n",
    "            j += 1\n",
    "    for i in range(len(nums)):\n",
    "        nums[i] = temp[i]\n",
    "'''\n",
    "时间复杂福：O(n)\n",
    "空间复杂度：O(1)\n",
    "方法：设立2个指针，扫描整个数组，当扫描到的元素为0时，把当前指针赋值给j，当扫描到非0元素时，\n",
    "    将其与j下标的元素交换位置\n",
    "'''\n",
    "def solution2(nums):\n",
    "    j = 0 # j 为0元素的位置 i为非零的\n",
    "    for i in range(len(nums)):\n",
    "        if nums[i] != 0:\n",
    "            if i != j:\n",
    "                nums[i], nums[j] = nums[j], nums[i]\n",
    "                j += 1\n",
    "            else:\n",
    "                j += 1"
   ]
  },
  {
   "cell_type": "code",
   "execution_count": 52,
   "metadata": {},
   "outputs": [
    {
     "name": "stdout",
     "output_type": "stream",
     "text": [
      "811 ns ± 8.5 ns per loop (mean ± std. dev. of 7 runs, 1000000 loops each)\n"
     ]
    }
   ],
   "source": [
    "a = [0,1,0,3,12]\n",
    "%timeit solution2(a)\n"
   ]
  },
  {
   "cell_type": "code",
   "execution_count": 53,
   "metadata": {},
   "outputs": [
    {
     "name": "stdout",
     "output_type": "stream",
     "text": [
      "1.75 µs ± 26.7 ns per loop (mean ± std. dev. of 7 runs, 1000000 loops each)\n"
     ]
    }
   ],
   "source": [
    "a = [0,1,0,3,12]\n",
    "%timeit solution(a)\n"
   ]
  }
 ],
 "metadata": {
  "kernelspec": {
   "display_name": "Python 3",
   "language": "python",
   "name": "python3"
  },
  "language_info": {
   "codemirror_mode": {
    "name": "ipython",
    "version": 3
   },
   "file_extension": ".py",
   "mimetype": "text/x-python",
   "name": "python",
   "nbconvert_exporter": "python",
   "pygments_lexer": "ipython3",
   "version": "3.6.5"
  }
 },
 "nbformat": 4,
 "nbformat_minor": 2
}
